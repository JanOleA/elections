{
 "cells": [
  {
   "cell_type": "code",
   "execution_count": 1,
   "id": "0f4b752a-b29c-4c13-a3de-780bdfe600a2",
   "metadata": {},
   "outputs": [],
   "source": [
    "from pylections import distributions"
   ]
  },
  {
   "cell_type": "code",
   "execution_count": 2,
   "id": "973804b8-96f5-48bf-9243-efffbc4d41bf",
   "metadata": {},
   "outputs": [],
   "source": [
    "candidates = {\n",
    "    \"Yellows\": 47000,\n",
    "    \"Whites\": 16000,\n",
    "    \"Reds\": 15800,\n",
    "    \"Greens\": 12000,\n",
    "    \"Blues\": 6100,\n",
    "    \"Pinks\": 3100\n",
    "}\n",
    "num_seats = 10"
   ]
  },
  {
   "cell_type": "code",
   "execution_count": 3,
   "id": "16b899b1-9ef1-418a-9415-7b182df56a28",
   "metadata": {},
   "outputs": [
    {
     "name": "stdout",
     "output_type": "stream",
     "text": [
      "{'Yellows': 4, 'Whites': 2, 'Reds': 2, 'Greens': 1, 'Blues': 1, 'Pinks': 0}\n"
     ]
    }
   ],
   "source": [
    "st = distributions.StLague(num_seats)\n",
    "st.add_score(candidates)\n",
    "st.calculate()\n",
    "print(st.result)"
   ]
  },
  {
   "cell_type": "code",
   "execution_count": 4,
   "id": "fbf39253-0656-4926-89b5-08aed0b14023",
   "metadata": {},
   "outputs": [
    {
     "name": "stdout",
     "output_type": "stream",
     "text": [
      "{'Yellows': 5, 'Whites': 2, 'Reds': 2, 'Greens': 1, 'Blues': 0, 'Pinks': 0}\n"
     ]
    }
   ],
   "source": [
    "dh = dists.DHondt(num_seats)\n",
    "dh.add_score(candidates)\n",
    "dh.calculate()\n",
    "print(dh.result)"
   ]
  },
  {
   "cell_type": "code",
   "execution_count": 5,
   "id": "b648c071-fdbe-40ab-95be-d205dbe5ff07",
   "metadata": {},
   "outputs": [
    {
     "name": "stdout",
     "output_type": "stream",
     "text": [
      "{'Yellows': 10, 'Whites': 0, 'Reds': 0, 'Greens': 0, 'Blues': 0, 'Pinks': 0}\n"
     ]
    }
   ],
   "source": [
    "fptp = dists.FirstPastThePost(num_seats)\n",
    "fptp.add_score(candidates)\n",
    "fptp.calculate()\n",
    "print(fptp.result)"
   ]
  },
  {
   "cell_type": "code",
   "execution_count": 6,
   "id": "13d89a90-5e86-46d2-8b49-3bca93d18ba4",
   "metadata": {},
   "outputs": [
    {
     "name": "stdout",
     "output_type": "stream",
     "text": [
      "{'Yellows': 4, 'Whites': 2, 'Reds': 1, 'Greens': 1, 'Blues': 1, 'Pinks': 1}\n"
     ]
    }
   ],
   "source": [
    "hh = dists.HuntingtonHill(num_seats, 1, 4)\n",
    "hh.add_score(candidates)\n",
    "hh.calculate()\n",
    "print(hh.result)"
   ]
  },
  {
   "cell_type": "code",
   "execution_count": 7,
   "id": "ca500708-d812-416f-98c7-73ce7804e5c0",
   "metadata": {},
   "outputs": [
    {
     "name": "stdout",
     "output_type": "stream",
     "text": [
      "{'Yellows': 5.0, 'Whites': 2.0, 'Reds': 1.0, 'Greens': 1.0, 'Blues': 1.0, 'Pinks': 0.0}\n"
     ]
    }
   ],
   "source": [
    "ham_hare = dists.Hamilton(num_seats, quota=\"hare\")\n",
    "ham_hare.add_score(candidates)\n",
    "ham_hare.calculate()\n",
    "print(ham_hare.result)"
   ]
  },
  {
   "cell_type": "code",
   "execution_count": 8,
   "id": "1d101ce9-e897-47d3-8e1a-1f24ac7746c2",
   "metadata": {},
   "outputs": [
    {
     "name": "stdout",
     "output_type": "stream",
     "text": [
      "{'Yellows': 5.0, 'Whites': 2.0, 'Reds': 2.0, 'Greens': 1.0, 'Blues': 0.0, 'Pinks': 0.0}\n"
     ]
    }
   ],
   "source": [
    "ham_droop = dists.Hamilton(num_seats, quota=\"droop\")\n",
    "ham_droop.add_score(candidates)\n",
    "ham_droop.calculate()\n",
    "print(ham_droop.result)"
   ]
  },
  {
   "cell_type": "code",
   "execution_count": 9,
   "id": "127d9245-f2c3-45cb-9c9d-7b03e3ec6602",
   "metadata": {},
   "outputs": [
    {
     "name": "stdout",
     "output_type": "stream",
     "text": [
      "{'Yellows': 7.0, 'Whites': 7.0, 'Reds': 4.0, 'Greens': 3.0, 'Blues': 3.0, 'Pinks': 1.0}\n"
     ]
    }
   ],
   "source": [
    "candidates = {\n",
    "    \"Yellows\": 1500,\n",
    "    \"Whites\": 1500,\n",
    "    \"Reds\": 900,\n",
    "    \"Greens\": 500,\n",
    "    \"Blues\": 500,\n",
    "    \"Pinks\": 200\n",
    "}\n",
    "\n",
    "num_seats = 25\n",
    "ham = dists.Hamilton(num_seats)\n",
    "ham.add_score(candidates)\n",
    "print(ham.result)"
   ]
  },
  {
   "cell_type": "code",
   "execution_count": 10,
   "id": "9093acf6-06ba-44f5-adc6-9e59053fc0fc",
   "metadata": {},
   "outputs": [
    {
     "name": "stdout",
     "output_type": "stream",
     "text": [
      "{'Yellows': 8.0, 'Whites': 8.0, 'Reds': 5.0, 'Greens': 2.0, 'Blues': 2.0, 'Pinks': 1.0}\n"
     ]
    }
   ],
   "source": [
    "ham.num_seats = 26\n",
    "print(ham.result)"
   ]
  }
 ],
 "metadata": {
  "kernelspec": {
   "display_name": "Python 3",
   "language": "python",
   "name": "python3"
  },
  "language_info": {
   "codemirror_mode": {
    "name": "ipython",
    "version": 3
   },
   "file_extension": ".py",
   "mimetype": "text/x-python",
   "name": "python",
   "nbconvert_exporter": "python",
   "pygments_lexer": "ipython3",
   "version": "3.9.2"
  }
 },
 "nbformat": 4,
 "nbformat_minor": 5
}
